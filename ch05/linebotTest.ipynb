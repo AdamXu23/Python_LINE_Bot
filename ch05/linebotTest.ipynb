{
 "cells": [
  {
   "cell_type": "code",
   "execution_count": null,
   "id": "137065e2",
   "metadata": {},
   "outputs": [],
   "source": [
    "from flask import Flask"
   ]
  },
  {
   "cell_type": "code",
   "execution_count": null,
   "id": "04ae41fe",
   "metadata": {},
   "outputs": [],
   "source": [
    "app = Flask(__name__)"
   ]
  },
  {
   "cell_type": "code",
   "execution_count": null,
   "id": "4e48cd6c",
   "metadata": {},
   "outputs": [],
   "source": [
    "from flask import request, abort\n",
    "from linebot import  LineBotApi, WebhookHandler\n",
    "from linebot.exceptions import InvalidSignatureError\n",
    "from linebot.models import MessageEvent, TextMessage, TextSendMessage"
   ]
  },
  {
   "cell_type": "markdown",
   "id": "f6ed626c",
   "metadata": {},
   "source": [
    "line_bot_api = LineBotApi('你的 CHANNEL_ACCESS_TOKEN')\n",
    "\n",
    "handler = WebhookHandler('你的 CHANNEL_SECRET')"
   ]
  },
  {
   "cell_type": "code",
   "execution_count": null,
   "id": "e9fbb3e7",
   "metadata": {},
   "outputs": [],
   "source": [
    "line_bot_api = LineBotApi('wbOU/mjmasq4edoAqlAIM7x7hbR5xGPXb3jKelkHVQdntou9TGayj6c3+/lRZu9FjIL0nFDUOWd8+KuAdEI0DT6vNHUXCtTEX1dLdKFcOFl0wZ62j7IeJyizfyBzgFXQx07xNjIWnQR5izrnLDcYggdB04t89/1cOD')\n",
    "handler = WebhookHandler('f41538b02c0368612d79a8ef0abf0e6d')"
   ]
  },
  {
   "cell_type": "code",
   "execution_count": null,
   "id": "b2926385",
   "metadata": {},
   "outputs": [],
   "source": [
    "@app.route(\"/callback\", methods=['POST'])\n",
    "def callback():\n",
    "    signature = request.headers['X-Line-Signature']\n",
    "    body = request.get_data(as_text=True)\n",
    "    try:\n",
    "        handler.handle(body, signature)\n",
    "    except InvalidSignatureError:\n",
    "        abort(400)\n",
    "    return 'OK'"
   ]
  },
  {
   "cell_type": "code",
   "execution_count": null,
   "id": "19dbe98d",
   "metadata": {},
   "outputs": [],
   "source": [
    "@handler.add(MessageEvent, message=TextMessage)\n",
    "def handle_message(event):\n",
    "    line_bot_api.reply_message(event.reply_token,TextSendMessage(text=event.message.text))\n"
   ]
  },
  {
   "cell_type": "code",
   "execution_count": null,
   "id": "25667335",
   "metadata": {},
   "outputs": [],
   "source": [
    "if __name__ == '__main__':\n",
    "    app.run()"
   ]
  },
  {
   "cell_type": "code",
   "execution_count": null,
   "id": "c8cf6d5e",
   "metadata": {},
   "outputs": [],
   "source": []
  }
 ],
 "metadata": {
  "kernelspec": {
   "display_name": "Python 3 (ipykernel)",
   "language": "python",
   "name": "python3"
  },
  "language_info": {
   "codemirror_mode": {
    "name": "ipython",
    "version": 3
   },
   "file_extension": ".py",
   "mimetype": "text/x-python",
   "name": "python",
   "nbconvert_exporter": "python",
   "pygments_lexer": "ipython3",
   "version": "3.10.5"
  }
 },
 "nbformat": 4,
 "nbformat_minor": 5
}
