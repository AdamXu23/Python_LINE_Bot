{
 "cells": [
  {
   "cell_type": "code",
   "execution_count": 1,
   "id": "3220fae5",
   "metadata": {},
   "outputs": [],
   "source": [
    "from flask import Flask"
   ]
  },
  {
   "cell_type": "code",
   "execution_count": 2,
   "id": "71b3ef08",
   "metadata": {},
   "outputs": [],
   "source": [
    "app = Flask(__name__)"
   ]
  },
  {
   "cell_type": "code",
   "execution_count": 3,
   "id": "e146dc12",
   "metadata": {},
   "outputs": [],
   "source": [
    "from flask import render_template"
   ]
  },
  {
   "cell_type": "code",
   "execution_count": 4,
   "id": "9cec38bf",
   "metadata": {},
   "outputs": [],
   "source": [
    "@app.route('/show')\n",
    "def show():\n",
    "    person1={\"name\":\"Amy\",\"phone\":\"049-1234567\",\"age\":20}\n",
    "    person2={\"name\":\"Jack\",\"phone\":\"02-4455666\",\"age\":25}\n",
    "    person3={\"name\":\"Nacy\",\"phone\":\"04-9876543\",\"age\":17}\n",
    "    persons=[person1,person2,person3]\n",
    "    return render_template('show.html', **locals())"
   ]
  },
  {
   "cell_type": "code",
   "execution_count": null,
   "id": "c71c1ced",
   "metadata": {},
   "outputs": [
    {
     "name": "stdout",
     "output_type": "stream",
     "text": [
      " * Serving Flask app '__main__'\n",
      " * Debug mode: off\n"
     ]
    },
    {
     "name": "stderr",
     "output_type": "stream",
     "text": [
      "WARNING: This is a development server. Do not use it in a production deployment. Use a production WSGI server instead.\n",
      " * Running on http://127.0.0.1:5000\n",
      "Press CTRL+C to quit\n",
      "127.0.0.1 - - [15/Sep/2022 16:11:39] \"GET /show HTTP/1.1\" 200 -\n"
     ]
    }
   ],
   "source": [
    "\n",
    "if __name__ == '__main__':\n",
    "    app.run()"
   ]
  },
  {
   "cell_type": "code",
   "execution_count": null,
   "id": "e5fc89bc",
   "metadata": {},
   "outputs": [],
   "source": []
  }
 ],
 "metadata": {
  "kernelspec": {
   "display_name": "Python 3 (ipykernel)",
   "language": "python",
   "name": "python3"
  },
  "language_info": {
   "codemirror_mode": {
    "name": "ipython",
    "version": 3
   },
   "file_extension": ".py",
   "mimetype": "text/x-python",
   "name": "python",
   "nbconvert_exporter": "python",
   "pygments_lexer": "ipython3",
   "version": "3.10.5"
  }
 },
 "nbformat": 4,
 "nbformat_minor": 5
}
