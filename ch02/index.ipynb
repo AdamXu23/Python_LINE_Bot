{
 "cells": [
  {
   "cell_type": "code",
   "execution_count": 2,
   "id": "e7173afe",
   "metadata": {},
   "outputs": [],
   "source": [
    "from flask import Flask"
   ]
  },
  {
   "cell_type": "code",
   "execution_count": 6,
   "id": "c102bda8",
   "metadata": {},
   "outputs": [],
   "source": [
    "app = Flask(__name__)"
   ]
  },
  {
   "cell_type": "code",
   "execution_count": 7,
   "id": "7e41fcb0",
   "metadata": {},
   "outputs": [],
   "source": [
    "@app.route('/')\n",
    "def index():\n",
    "    return '歡迎來到首頁!'"
   ]
  },
  {
   "cell_type": "code",
   "execution_count": 8,
   "id": "2bec948d",
   "metadata": {},
   "outputs": [],
   "source": [
    "@app.route('/hello')\n",
    "def hello():\n",
    "    return '歡迎來到歡迎頁面!'"
   ]
  },
  {
   "cell_type": "code",
   "execution_count": 9,
   "id": "8bf5371f",
   "metadata": {},
   "outputs": [
    {
     "name": "stdout",
     "output_type": "stream",
     "text": [
      " * Serving Flask app '__main__'\n",
      " * Debug mode: off\n"
     ]
    },
    {
     "name": "stderr",
     "output_type": "stream",
     "text": [
      "WARNING: This is a development server. Do not use it in a production deployment. Use a production WSGI server instead.\n",
      " * Running on http://127.0.0.1:5000\n",
      "Press CTRL+C to quit\n",
      "127.0.0.1 - - [15/Sep/2022 13:35:30] \"GET / HTTP/1.1\" 200 -\n",
      "127.0.0.1 - - [15/Sep/2022 13:35:32] \"GET /favicon.ico HTTP/1.1\" 404 -\n"
     ]
    }
   ],
   "source": [
    "if __name__ == '__main__':\n",
    "    app.run()"
   ]
  },
  {
   "cell_type": "code",
   "execution_count": null,
   "id": "0cded794",
   "metadata": {},
   "outputs": [],
   "source": []
  }
 ],
 "metadata": {
  "kernelspec": {
   "display_name": "Python 3 (ipykernel)",
   "language": "python",
   "name": "python3"
  },
  "language_info": {
   "codemirror_mode": {
    "name": "ipython",
    "version": 3
   },
   "file_extension": ".py",
   "mimetype": "text/x-python",
   "name": "python",
   "nbconvert_exporter": "python",
   "pygments_lexer": "ipython3",
   "version": "3.10.5"
  }
 },
 "nbformat": 4,
 "nbformat_minor": 5
}
