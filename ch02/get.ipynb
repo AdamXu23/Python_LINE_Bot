{
 "cells": [
  {
   "cell_type": "code",
   "execution_count": null,
   "id": "185f01ca",
   "metadata": {},
   "outputs": [],
   "source": [
    "from flask import Flask\n",
    "from flask import request"
   ]
  },
  {
   "cell_type": "code",
   "execution_count": null,
   "id": "79277926",
   "metadata": {},
   "outputs": [],
   "source": [
    "app = Flask(__name__)"
   ]
  },
  {
   "cell_type": "code",
   "execution_count": null,
   "id": "2e1105d7",
   "metadata": {},
   "outputs": [],
   "source": [
    "@app.route('/', methods=['get'])\n",
    "def index():\n",
    "    name = request.args.get('name')\n",
    "    return \"Hello, {}\".format(name)"
   ]
  },
  {
   "cell_type": "code",
   "execution_count": null,
   "id": "05775f8c",
   "metadata": {},
   "outputs": [],
   "source": [
    "if __name__ == '__main__':\n",
    "    app.run(debug=True)"
   ]
  },
  {
   "cell_type": "code",
   "execution_count": null,
   "id": "c5b37248",
   "metadata": {},
   "outputs": [],
   "source": []
  }
 ],
 "metadata": {
  "kernelspec": {
   "display_name": "Python 3 (ipykernel)",
   "language": "python",
   "name": "python3"
  },
  "language_info": {
   "codemirror_mode": {
    "name": "ipython",
    "version": 3
   },
   "file_extension": ".py",
   "mimetype": "text/x-python",
   "name": "python",
   "nbconvert_exporter": "python",
   "pygments_lexer": "ipython3",
   "version": "3.10.5"
  }
 },
 "nbformat": 4,
 "nbformat_minor": 5
}
