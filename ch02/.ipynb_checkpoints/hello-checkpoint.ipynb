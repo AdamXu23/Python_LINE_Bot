{
 "cells": [
  {
   "cell_type": "code",
   "execution_count": null,
   "id": "efeefba7",
   "metadata": {},
   "outputs": [],
   "source": [
    "from flask import Flask"
   ]
  },
  {
   "cell_type": "code",
   "execution_count": null,
   "id": "0484a85f",
   "metadata": {},
   "outputs": [],
   "source": [
    "app = Flask(__name__)"
   ]
  },
  {
   "cell_type": "code",
   "execution_count": null,
   "id": "cf003877",
   "metadata": {},
   "outputs": [],
   "source": [
    "app.route('/hello/<string:name>')\n",
    "def hello(name):\n",
    "    return '{}，歡迎來到 Flask!'.format(name)"
   ]
  },
  {
   "cell_type": "code",
   "execution_count": null,
   "id": "0d85d8ae",
   "metadata": {},
   "outputs": [],
   "source": [
    "if __name__ == '__main__':\n",
    "    app.run()"
   ]
  },
  {
   "cell_type": "code",
   "execution_count": null,
   "id": "5a581b4d",
   "metadata": {},
   "outputs": [],
   "source": []
  }
 ],
 "metadata": {
  "kernelspec": {
   "display_name": "Python 3 (ipykernel)",
   "language": "python",
   "name": "python3"
  },
  "language_info": {
   "codemirror_mode": {
    "name": "ipython",
    "version": 3
   },
   "file_extension": ".py",
   "mimetype": "text/x-python",
   "name": "python",
   "nbconvert_exporter": "python",
   "pygments_lexer": "ipython3",
   "version": "3.10.5"
  }
 },
 "nbformat": 4,
 "nbformat_minor": 5
}
