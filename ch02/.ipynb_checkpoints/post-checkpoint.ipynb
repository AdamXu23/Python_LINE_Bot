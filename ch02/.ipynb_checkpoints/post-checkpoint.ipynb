{
 "cells": [
  {
   "cell_type": "code",
   "execution_count": 1,
   "id": "c391396c",
   "metadata": {},
   "outputs": [],
   "source": [
    "from flask import Flask\n",
    "from flask import request"
   ]
  },
  {
   "cell_type": "code",
   "execution_count": 2,
   "id": "2f8d13dc",
   "metadata": {},
   "outputs": [],
   "source": [
    "app = Flask(__name__)"
   ]
  },
  {
   "cell_type": "code",
   "execution_count": 3,
   "id": "835a50b4",
   "metadata": {},
   "outputs": [],
   "source": [
    "@app.route('/', methods=['GET','POST'])\n",
    "def submit():\n",
    "    if request.method == \"POST\":\n",
    "        username = request.values['username']\n",
    "        password = request.values['password']\n",
    "        if username=='david' and password=='1234':\n",
    "            return '歡迎光臨本網站！'\n",
    "        else:\n",
    "            return '帳號或密碼錯誤！'\n",
    "    return \"\"\"\n",
    "            <form method='post' action=''>\n",
    "                <p>帳號：<input type='text' name='username' /></p>\n",
    "                <p>密碼：<input type='text' name='password' /></p>\n",
    "                <p><button type='submit'>確定</button></p>\n",
    "            </form>\n",
    "    \"\"\""
   ]
  },
  {
   "cell_type": "code",
   "execution_count": 4,
   "id": "515bf68c",
   "metadata": {
    "scrolled": true
   },
   "outputs": [
    {
     "name": "stdout",
     "output_type": "stream",
     "text": [
      " * Serving Flask app '__main__'\n",
      " * Debug mode: off\n"
     ]
    },
    {
     "name": "stderr",
     "output_type": "stream",
     "text": [
      "WARNING: This is a development server. Do not use it in a production deployment. Use a production WSGI server instead.\n",
      " * Running on http://127.0.0.1:5000\n",
      "Press CTRL+C to quit\n",
      "127.0.0.1 - - [15/Sep/2022 15:41:11] \"GET / HTTP/1.1\" 200 -\n",
      "127.0.0.1 - - [15/Sep/2022 15:41:12] \"GET /favicon.ico HTTP/1.1\" 404 -\n",
      "127.0.0.1 - - [15/Sep/2022 15:41:19] \"POST / HTTP/1.1\" 200 -\n",
      "127.0.0.1 - - [15/Sep/2022 15:41:23] \"GET / HTTP/1.1\" 200 -\n",
      "127.0.0.1 - - [15/Sep/2022 15:41:36] \"POST / HTTP/1.1\" 200 -\n"
     ]
    }
   ],
   "source": [
    "if __name__ == '__main__':\n",
    "    app.run()"
   ]
  },
  {
   "cell_type": "code",
   "execution_count": null,
   "id": "380e8470",
   "metadata": {},
   "outputs": [],
   "source": []
  }
 ],
 "metadata": {
  "kernelspec": {
   "display_name": "Python 3 (ipykernel)",
   "language": "python",
   "name": "python3"
  },
  "language_info": {
   "codemirror_mode": {
    "name": "ipython",
    "version": 3
   },
   "file_extension": ".py",
   "mimetype": "text/x-python",
   "name": "python",
   "nbconvert_exporter": "python",
   "pygments_lexer": "ipython3",
   "version": "3.10.5"
  }
 },
 "nbformat": 4,
 "nbformat_minor": 5
}
