{
 "cells": [
  {
   "cell_type": "code",
   "execution_count": 1,
   "id": "c5ca24c0",
   "metadata": {},
   "outputs": [],
   "source": [
    "from flask import Flask"
   ]
  },
  {
   "cell_type": "code",
   "execution_count": 2,
   "id": "02b0d035",
   "metadata": {},
   "outputs": [],
   "source": [
    "app = Flask(__name__)"
   ]
  },
  {
   "cell_type": "code",
   "execution_count": 3,
   "id": "f428a850",
   "metadata": {},
   "outputs": [],
   "source": [
    "from flask import render_template\n",
    "from datetime import datetime"
   ]
  },
  {
   "cell_type": "code",
   "execution_count": 4,
   "id": "0103b0d8",
   "metadata": {},
   "outputs": [],
   "source": [
    "@app.route('/hello/<string:name>')\n",
    "def hello(name):\n",
    "    now = datetime.now()\n",
    "    return render_template('hello3.html', **locals())"
   ]
  },
  {
   "cell_type": "code",
   "execution_count": 5,
   "id": "d921af4f",
   "metadata": {},
   "outputs": [
    {
     "name": "stdout",
     "output_type": "stream",
     "text": [
      " * Serving Flask app '__main__'\n",
      " * Debug mode: off\n"
     ]
    },
    {
     "name": "stderr",
     "output_type": "stream",
     "text": [
      "WARNING: This is a development server. Do not use it in a production deployment. Use a production WSGI server instead.\n",
      " * Running on http://127.0.0.1:5000\n",
      "Press CTRL+C to quit\n",
      "127.0.0.1 - - [15/Sep/2022 16:02:48] \"GET /hello/AdamXU HTTP/1.1\" 200 -\n",
      "127.0.0.1 - - [15/Sep/2022 16:02:48] \"GET /static/style1.css HTTP/1.1\" 200 -\n",
      "127.0.0.1 - - [15/Sep/2022 16:02:48] \"GET /static/ball.png HTTP/1.1\" 200 -\n"
     ]
    }
   ],
   "source": [
    "if __name__ == '__main__':\n",
    "    app.run()"
   ]
  },
  {
   "cell_type": "code",
   "execution_count": null,
   "id": "52ca6070",
   "metadata": {},
   "outputs": [],
   "source": []
  }
 ],
 "metadata": {
  "kernelspec": {
   "display_name": "Python 3 (ipykernel)",
   "language": "python",
   "name": "python3"
  },
  "language_info": {
   "codemirror_mode": {
    "name": "ipython",
    "version": 3
   },
   "file_extension": ".py",
   "mimetype": "text/x-python",
   "name": "python",
   "nbconvert_exporter": "python",
   "pygments_lexer": "ipython3",
   "version": "3.10.5"
  }
 },
 "nbformat": 4,
 "nbformat_minor": 5
}
